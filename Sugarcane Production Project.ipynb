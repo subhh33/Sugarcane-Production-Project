{
 "cells": [
  {
   "cell_type": "code",
   "execution_count": 58,
   "id": "26d0e88a",
   "metadata": {},
   "outputs": [],
   "source": [
    "import pandas as pd\n",
    "import seaborn as sns\n",
    "from matplotlib import pyplot as plt"
   ]
  },
  {
   "cell_type": "code",
   "execution_count": 59,
   "id": "5b5fa651",
   "metadata": {},
   "outputs": [],
   "source": [
    "df=pd.read_csv(\"List of Countries by Sugarcane Production.csv\")"
   ]
  },
  {
   "cell_type": "code",
   "execution_count": 60,
   "id": "c4de7f6e",
   "metadata": {},
   "outputs": [
    {
     "data": {
      "text/html": [
       "<div>\n",
       "<style scoped>\n",
       "    .dataframe tbody tr th:only-of-type {\n",
       "        vertical-align: middle;\n",
       "    }\n",
       "\n",
       "    .dataframe tbody tr th {\n",
       "        vertical-align: top;\n",
       "    }\n",
       "\n",
       "    .dataframe thead th {\n",
       "        text-align: right;\n",
       "    }\n",
       "</style>\n",
       "<table border=\"1\" class=\"dataframe\">\n",
       "  <thead>\n",
       "    <tr style=\"text-align: right;\">\n",
       "      <th></th>\n",
       "      <th>Unnamed: 0</th>\n",
       "      <th>Country</th>\n",
       "      <th>Continent</th>\n",
       "      <th>Production (Tons)</th>\n",
       "      <th>Production per Person (Kg)</th>\n",
       "      <th>Acreage (Hectare)</th>\n",
       "      <th>Yield (Kg / Hectare)</th>\n",
       "    </tr>\n",
       "  </thead>\n",
       "  <tbody>\n",
       "    <tr>\n",
       "      <th>0</th>\n",
       "      <td>0</td>\n",
       "      <td>Brazil</td>\n",
       "      <td>South America</td>\n",
       "      <td>768.678.382</td>\n",
       "      <td>3.668,531</td>\n",
       "      <td>10.226.205</td>\n",
       "      <td>75.167,5</td>\n",
       "    </tr>\n",
       "    <tr>\n",
       "      <th>1</th>\n",
       "      <td>1</td>\n",
       "      <td>India</td>\n",
       "      <td>Asia</td>\n",
       "      <td>348.448.000</td>\n",
       "      <td>260721</td>\n",
       "      <td>4.950.000</td>\n",
       "      <td>70.393,5</td>\n",
       "    </tr>\n",
       "    <tr>\n",
       "      <th>2</th>\n",
       "      <td>2</td>\n",
       "      <td>China</td>\n",
       "      <td>Asia</td>\n",
       "      <td>123.059.739</td>\n",
       "      <td>88287</td>\n",
       "      <td>1.675.215</td>\n",
       "      <td>73.459,1</td>\n",
       "    </tr>\n",
       "    <tr>\n",
       "      <th>3</th>\n",
       "      <td>3</td>\n",
       "      <td>Thailand</td>\n",
       "      <td>Asia</td>\n",
       "      <td>87.468.496</td>\n",
       "      <td>1.264,303</td>\n",
       "      <td>1.336.575</td>\n",
       "      <td>65.442,2</td>\n",
       "    </tr>\n",
       "    <tr>\n",
       "      <th>4</th>\n",
       "      <td>4</td>\n",
       "      <td>Pakistan</td>\n",
       "      <td>Asia</td>\n",
       "      <td>65.450.704</td>\n",
       "      <td>324219</td>\n",
       "      <td>1.130.820</td>\n",
       "      <td>57.879</td>\n",
       "    </tr>\n",
       "  </tbody>\n",
       "</table>\n",
       "</div>"
      ],
      "text/plain": [
       "   Unnamed: 0   Country      Continent Production (Tons)  \\\n",
       "0           0    Brazil  South America       768.678.382   \n",
       "1           1     India           Asia       348.448.000   \n",
       "2           2     China           Asia       123.059.739   \n",
       "3           3  Thailand           Asia        87.468.496   \n",
       "4           4  Pakistan           Asia        65.450.704   \n",
       "\n",
       "  Production per Person (Kg) Acreage (Hectare) Yield (Kg / Hectare)  \n",
       "0                  3.668,531        10.226.205             75.167,5  \n",
       "1                     260721         4.950.000             70.393,5  \n",
       "2                      88287         1.675.215             73.459,1  \n",
       "3                  1.264,303         1.336.575             65.442,2  \n",
       "4                     324219         1.130.820               57.879  "
      ]
     },
     "execution_count": 60,
     "metadata": {},
     "output_type": "execute_result"
    }
   ],
   "source": [
    "df.head()"
   ]
  },
  {
   "cell_type": "code",
   "execution_count": 61,
   "id": "4c022752",
   "metadata": {},
   "outputs": [
    {
     "data": {
      "text/plain": [
       "(103, 7)"
      ]
     },
     "execution_count": 61,
     "metadata": {},
     "output_type": "execute_result"
    }
   ],
   "source": [
    "df.shape"
   ]
  },
  {
   "cell_type": "markdown",
   "id": "2734ec2e",
   "metadata": {},
   "source": [
    "### Data Cleaning"
   ]
  },
  {
   "cell_type": "code",
   "execution_count": 62,
   "id": "6bd49004",
   "metadata": {},
   "outputs": [
    {
     "name": "stderr",
     "output_type": "stream",
     "text": [
      "/var/folders/26/dgq4rcbj7jl3khfygn81fp1h0000gn/T/ipykernel_12300/1095450056.py:1: FutureWarning: The default value of regex will change from True to False in a future version. In addition, single character regular expressions will *not* be treated as literal strings when regex=True.\n",
      "  df[\"Production (Tons)\"]=df[\"Production (Tons)\"].str.replace(\".\",\"\")\n",
      "/var/folders/26/dgq4rcbj7jl3khfygn81fp1h0000gn/T/ipykernel_12300/1095450056.py:2: FutureWarning: The default value of regex will change from True to False in a future version. In addition, single character regular expressions will *not* be treated as literal strings when regex=True.\n",
      "  df[\"Production per Person (Kg)\"]=df[\"Production per Person (Kg)\"].str.replace(\".\",\"\").str.replace(\",\",\".\")\n",
      "/var/folders/26/dgq4rcbj7jl3khfygn81fp1h0000gn/T/ipykernel_12300/1095450056.py:4: FutureWarning: The default value of regex will change from True to False in a future version. In addition, single character regular expressions will *not* be treated as literal strings when regex=True.\n",
      "  df[\"Acreage (Hectare)\"]=df[\"Acreage (Hectare)\"].str.replace(\".\",\"\")\n",
      "/var/folders/26/dgq4rcbj7jl3khfygn81fp1h0000gn/T/ipykernel_12300/1095450056.py:6: FutureWarning: The default value of regex will change from True to False in a future version. In addition, single character regular expressions will *not* be treated as literal strings when regex=True.\n",
      "  df[\"Yield (Kg / Hectare)\"]=df[\"Yield (Kg / Hectare)\"].str.replace(\".\",\"\").str.replace(\",\",\".\")\n"
     ]
    }
   ],
   "source": [
    "df[\"Production (Tons)\"]=df[\"Production (Tons)\"].str.replace(\".\",\"\")\n",
    "df[\"Production per Person (Kg)\"]=df[\"Production per Person (Kg)\"].str.replace(\".\",\"\").str.replace(\",\",\".\")\n",
    "\n",
    "df[\"Acreage (Hectare)\"]=df[\"Acreage (Hectare)\"].str.replace(\".\",\"\")\n",
    "\n",
    "df[\"Yield (Kg / Hectare)\"]=df[\"Yield (Kg / Hectare)\"].str.replace(\".\",\"\").str.replace(\",\",\".\")"
   ]
  },
  {
   "cell_type": "code",
   "execution_count": 63,
   "id": "58eaf4e5",
   "metadata": {},
   "outputs": [
    {
     "data": {
      "text/html": [
       "<div>\n",
       "<style scoped>\n",
       "    .dataframe tbody tr th:only-of-type {\n",
       "        vertical-align: middle;\n",
       "    }\n",
       "\n",
       "    .dataframe tbody tr th {\n",
       "        vertical-align: top;\n",
       "    }\n",
       "\n",
       "    .dataframe thead th {\n",
       "        text-align: right;\n",
       "    }\n",
       "</style>\n",
       "<table border=\"1\" class=\"dataframe\">\n",
       "  <thead>\n",
       "    <tr style=\"text-align: right;\">\n",
       "      <th></th>\n",
       "      <th>Unnamed: 0</th>\n",
       "      <th>Country</th>\n",
       "      <th>Continent</th>\n",
       "      <th>Production (Tons)</th>\n",
       "      <th>Production per Person (Kg)</th>\n",
       "      <th>Acreage (Hectare)</th>\n",
       "      <th>Yield (Kg / Hectare)</th>\n",
       "    </tr>\n",
       "  </thead>\n",
       "  <tbody>\n",
       "    <tr>\n",
       "      <th>0</th>\n",
       "      <td>0</td>\n",
       "      <td>Brazil</td>\n",
       "      <td>South America</td>\n",
       "      <td>768678382</td>\n",
       "      <td>3668.531</td>\n",
       "      <td>10226205</td>\n",
       "      <td>75167.5</td>\n",
       "    </tr>\n",
       "    <tr>\n",
       "      <th>1</th>\n",
       "      <td>1</td>\n",
       "      <td>India</td>\n",
       "      <td>Asia</td>\n",
       "      <td>348448000</td>\n",
       "      <td>260721</td>\n",
       "      <td>4950000</td>\n",
       "      <td>70393.5</td>\n",
       "    </tr>\n",
       "    <tr>\n",
       "      <th>2</th>\n",
       "      <td>2</td>\n",
       "      <td>China</td>\n",
       "      <td>Asia</td>\n",
       "      <td>123059739</td>\n",
       "      <td>88287</td>\n",
       "      <td>1675215</td>\n",
       "      <td>73459.1</td>\n",
       "    </tr>\n",
       "    <tr>\n",
       "      <th>3</th>\n",
       "      <td>3</td>\n",
       "      <td>Thailand</td>\n",
       "      <td>Asia</td>\n",
       "      <td>87468496</td>\n",
       "      <td>1264.303</td>\n",
       "      <td>1336575</td>\n",
       "      <td>65442.2</td>\n",
       "    </tr>\n",
       "    <tr>\n",
       "      <th>4</th>\n",
       "      <td>4</td>\n",
       "      <td>Pakistan</td>\n",
       "      <td>Asia</td>\n",
       "      <td>65450704</td>\n",
       "      <td>324219</td>\n",
       "      <td>1130820</td>\n",
       "      <td>57879</td>\n",
       "    </tr>\n",
       "  </tbody>\n",
       "</table>\n",
       "</div>"
      ],
      "text/plain": [
       "   Unnamed: 0   Country      Continent Production (Tons)  \\\n",
       "0           0    Brazil  South America         768678382   \n",
       "1           1     India           Asia         348448000   \n",
       "2           2     China           Asia         123059739   \n",
       "3           3  Thailand           Asia          87468496   \n",
       "4           4  Pakistan           Asia          65450704   \n",
       "\n",
       "  Production per Person (Kg) Acreage (Hectare) Yield (Kg / Hectare)  \n",
       "0                   3668.531          10226205              75167.5  \n",
       "1                     260721           4950000              70393.5  \n",
       "2                      88287           1675215              73459.1  \n",
       "3                   1264.303           1336575              65442.2  \n",
       "4                     324219           1130820                57879  "
      ]
     },
     "execution_count": 63,
     "metadata": {},
     "output_type": "execute_result"
    }
   ],
   "source": [
    "df.head()"
   ]
  },
  {
   "cell_type": "code",
   "execution_count": 64,
   "id": "ece2b280",
   "metadata": {},
   "outputs": [],
   "source": [
    "df.rename(columns={\"Production (Tons)\":\"Production (Tons)\"},inplace=True)\n",
    "\n",
    "df.rename(columns={\"Production per Person (Kg)\":\"Production per Person (Kg)\"},inplace=True)\n",
    "\n",
    "df.rename(columns={\"Acreage (Hectare)\":\"Acreage (Hectare)\"},inplace=True)\n",
    "\n",
    "df.rename(columns={\"Yield (Kg / Hectare)\":\"Yield (Kg / Hectare)\"},inplace=True)"
   ]
  },
  {
   "cell_type": "code",
   "execution_count": 65,
   "id": "3a024853",
   "metadata": {},
   "outputs": [
    {
     "data": {
      "text/html": [
       "<div>\n",
       "<style scoped>\n",
       "    .dataframe tbody tr th:only-of-type {\n",
       "        vertical-align: middle;\n",
       "    }\n",
       "\n",
       "    .dataframe tbody tr th {\n",
       "        vertical-align: top;\n",
       "    }\n",
       "\n",
       "    .dataframe thead th {\n",
       "        text-align: right;\n",
       "    }\n",
       "</style>\n",
       "<table border=\"1\" class=\"dataframe\">\n",
       "  <thead>\n",
       "    <tr style=\"text-align: right;\">\n",
       "      <th></th>\n",
       "      <th>Unnamed: 0</th>\n",
       "      <th>Country</th>\n",
       "      <th>Continent</th>\n",
       "      <th>Production (Tons)</th>\n",
       "      <th>Production per Person (Kg)</th>\n",
       "      <th>Acreage (Hectare)</th>\n",
       "      <th>Yield (Kg / Hectare)</th>\n",
       "    </tr>\n",
       "  </thead>\n",
       "  <tbody>\n",
       "    <tr>\n",
       "      <th>0</th>\n",
       "      <td>0</td>\n",
       "      <td>Brazil</td>\n",
       "      <td>South America</td>\n",
       "      <td>768678382</td>\n",
       "      <td>3668.531</td>\n",
       "      <td>10226205</td>\n",
       "      <td>75167.5</td>\n",
       "    </tr>\n",
       "    <tr>\n",
       "      <th>1</th>\n",
       "      <td>1</td>\n",
       "      <td>India</td>\n",
       "      <td>Asia</td>\n",
       "      <td>348448000</td>\n",
       "      <td>260721</td>\n",
       "      <td>4950000</td>\n",
       "      <td>70393.5</td>\n",
       "    </tr>\n",
       "    <tr>\n",
       "      <th>2</th>\n",
       "      <td>2</td>\n",
       "      <td>China</td>\n",
       "      <td>Asia</td>\n",
       "      <td>123059739</td>\n",
       "      <td>88287</td>\n",
       "      <td>1675215</td>\n",
       "      <td>73459.1</td>\n",
       "    </tr>\n",
       "    <tr>\n",
       "      <th>3</th>\n",
       "      <td>3</td>\n",
       "      <td>Thailand</td>\n",
       "      <td>Asia</td>\n",
       "      <td>87468496</td>\n",
       "      <td>1264.303</td>\n",
       "      <td>1336575</td>\n",
       "      <td>65442.2</td>\n",
       "    </tr>\n",
       "    <tr>\n",
       "      <th>4</th>\n",
       "      <td>4</td>\n",
       "      <td>Pakistan</td>\n",
       "      <td>Asia</td>\n",
       "      <td>65450704</td>\n",
       "      <td>324219</td>\n",
       "      <td>1130820</td>\n",
       "      <td>57879</td>\n",
       "    </tr>\n",
       "  </tbody>\n",
       "</table>\n",
       "</div>"
      ],
      "text/plain": [
       "   Unnamed: 0   Country      Continent Production (Tons)  \\\n",
       "0           0    Brazil  South America         768678382   \n",
       "1           1     India           Asia         348448000   \n",
       "2           2     China           Asia         123059739   \n",
       "3           3  Thailand           Asia          87468496   \n",
       "4           4  Pakistan           Asia          65450704   \n",
       "\n",
       "  Production per Person (Kg) Acreage (Hectare) Yield (Kg / Hectare)  \n",
       "0                   3668.531          10226205              75167.5  \n",
       "1                     260721           4950000              70393.5  \n",
       "2                      88287           1675215              73459.1  \n",
       "3                   1264.303           1336575              65442.2  \n",
       "4                     324219           1130820                57879  "
      ]
     },
     "execution_count": 65,
     "metadata": {},
     "output_type": "execute_result"
    }
   ],
   "source": [
    "df.head()"
   ]
  },
  {
   "cell_type": "code",
   "execution_count": 66,
   "id": "7f832cfd",
   "metadata": {},
   "outputs": [
    {
     "data": {
      "text/plain": [
       "Unnamed: 0                    0\n",
       "Country                       0\n",
       "Continent                     0\n",
       "Production (Tons)             0\n",
       "Production per Person (Kg)    0\n",
       "Acreage (Hectare)             1\n",
       "Yield (Kg / Hectare)          1\n",
       "dtype: int64"
      ]
     },
     "execution_count": 66,
     "metadata": {},
     "output_type": "execute_result"
    }
   ],
   "source": [
    "df.isna().sum()"
   ]
  },
  {
   "cell_type": "code",
   "execution_count": 67,
   "id": "e2da32d8",
   "metadata": {},
   "outputs": [
    {
     "data": {
      "text/html": [
       "<div>\n",
       "<style scoped>\n",
       "    .dataframe tbody tr th:only-of-type {\n",
       "        vertical-align: middle;\n",
       "    }\n",
       "\n",
       "    .dataframe tbody tr th {\n",
       "        vertical-align: top;\n",
       "    }\n",
       "\n",
       "    .dataframe thead th {\n",
       "        text-align: right;\n",
       "    }\n",
       "</style>\n",
       "<table border=\"1\" class=\"dataframe\">\n",
       "  <thead>\n",
       "    <tr style=\"text-align: right;\">\n",
       "      <th></th>\n",
       "      <th>Unnamed: 0</th>\n",
       "      <th>Country</th>\n",
       "      <th>Continent</th>\n",
       "      <th>Production (Tons)</th>\n",
       "      <th>Production per Person (Kg)</th>\n",
       "      <th>Acreage (Hectare)</th>\n",
       "      <th>Yield (Kg / Hectare)</th>\n",
       "    </tr>\n",
       "  </thead>\n",
       "  <tbody>\n",
       "    <tr>\n",
       "      <th>99</th>\n",
       "      <td>99</td>\n",
       "      <td>Djibouti</td>\n",
       "      <td>Africa</td>\n",
       "      <td>53</td>\n",
       "      <td>51</td>\n",
       "      <td>NaN</td>\n",
       "      <td>NaN</td>\n",
       "    </tr>\n",
       "  </tbody>\n",
       "</table>\n",
       "</div>"
      ],
      "text/plain": [
       "    Unnamed: 0   Country Continent Production (Tons)  \\\n",
       "99          99  Djibouti    Africa                53   \n",
       "\n",
       "   Production per Person (Kg) Acreage (Hectare) Yield (Kg / Hectare)  \n",
       "99                         51               NaN                  NaN  "
      ]
     },
     "execution_count": 67,
     "metadata": {},
     "output_type": "execute_result"
    }
   ],
   "source": [
    "df[df[\"Acreage (Hectare)\"].isnull()]"
   ]
  },
  {
   "cell_type": "code",
   "execution_count": 68,
   "id": "7a78f5c9",
   "metadata": {},
   "outputs": [],
   "source": [
    "df=df.dropna().reset_index()"
   ]
  },
  {
   "cell_type": "code",
   "execution_count": 69,
   "id": "5fc3077e",
   "metadata": {},
   "outputs": [
    {
     "data": {
      "text/html": [
       "<div>\n",
       "<style scoped>\n",
       "    .dataframe tbody tr th:only-of-type {\n",
       "        vertical-align: middle;\n",
       "    }\n",
       "\n",
       "    .dataframe tbody tr th {\n",
       "        vertical-align: top;\n",
       "    }\n",
       "\n",
       "    .dataframe thead th {\n",
       "        text-align: right;\n",
       "    }\n",
       "</style>\n",
       "<table border=\"1\" class=\"dataframe\">\n",
       "  <thead>\n",
       "    <tr style=\"text-align: right;\">\n",
       "      <th></th>\n",
       "      <th>index</th>\n",
       "      <th>Unnamed: 0</th>\n",
       "      <th>Country</th>\n",
       "      <th>Continent</th>\n",
       "      <th>Production (Tons)</th>\n",
       "      <th>Production per Person (Kg)</th>\n",
       "      <th>Acreage (Hectare)</th>\n",
       "      <th>Yield (Kg / Hectare)</th>\n",
       "    </tr>\n",
       "  </thead>\n",
       "  <tbody>\n",
       "    <tr>\n",
       "      <th>0</th>\n",
       "      <td>0</td>\n",
       "      <td>0</td>\n",
       "      <td>Brazil</td>\n",
       "      <td>South America</td>\n",
       "      <td>768678382</td>\n",
       "      <td>3668.531</td>\n",
       "      <td>10226205</td>\n",
       "      <td>75167.5</td>\n",
       "    </tr>\n",
       "    <tr>\n",
       "      <th>1</th>\n",
       "      <td>1</td>\n",
       "      <td>1</td>\n",
       "      <td>India</td>\n",
       "      <td>Asia</td>\n",
       "      <td>348448000</td>\n",
       "      <td>260721</td>\n",
       "      <td>4950000</td>\n",
       "      <td>70393.5</td>\n",
       "    </tr>\n",
       "    <tr>\n",
       "      <th>2</th>\n",
       "      <td>2</td>\n",
       "      <td>2</td>\n",
       "      <td>China</td>\n",
       "      <td>Asia</td>\n",
       "      <td>123059739</td>\n",
       "      <td>88287</td>\n",
       "      <td>1675215</td>\n",
       "      <td>73459.1</td>\n",
       "    </tr>\n",
       "    <tr>\n",
       "      <th>3</th>\n",
       "      <td>3</td>\n",
       "      <td>3</td>\n",
       "      <td>Thailand</td>\n",
       "      <td>Asia</td>\n",
       "      <td>87468496</td>\n",
       "      <td>1264.303</td>\n",
       "      <td>1336575</td>\n",
       "      <td>65442.2</td>\n",
       "    </tr>\n",
       "    <tr>\n",
       "      <th>4</th>\n",
       "      <td>4</td>\n",
       "      <td>4</td>\n",
       "      <td>Pakistan</td>\n",
       "      <td>Asia</td>\n",
       "      <td>65450704</td>\n",
       "      <td>324219</td>\n",
       "      <td>1130820</td>\n",
       "      <td>57879</td>\n",
       "    </tr>\n",
       "  </tbody>\n",
       "</table>\n",
       "</div>"
      ],
      "text/plain": [
       "   index  Unnamed: 0   Country      Continent Production (Tons)  \\\n",
       "0      0           0    Brazil  South America         768678382   \n",
       "1      1           1     India           Asia         348448000   \n",
       "2      2           2     China           Asia         123059739   \n",
       "3      3           3  Thailand           Asia          87468496   \n",
       "4      4           4  Pakistan           Asia          65450704   \n",
       "\n",
       "  Production per Person (Kg) Acreage (Hectare) Yield (Kg / Hectare)  \n",
       "0                   3668.531          10226205              75167.5  \n",
       "1                     260721           4950000              70393.5  \n",
       "2                      88287           1675215              73459.1  \n",
       "3                   1264.303           1336575              65442.2  \n",
       "4                     324219           1130820                57879  "
      ]
     },
     "execution_count": 69,
     "metadata": {},
     "output_type": "execute_result"
    }
   ],
   "source": [
    "df.head()"
   ]
  },
  {
   "cell_type": "code",
   "execution_count": 73,
   "id": "25a6a266",
   "metadata": {},
   "outputs": [
    {
     "data": {
      "text/plain": [
       "index                         0\n",
       "Unnamed: 0                    0\n",
       "Country                       0\n",
       "Continent                     0\n",
       "Production (Tons)             0\n",
       "Production per Person (Kg)    0\n",
       "Acreage (Hectare)             0\n",
       "Yield (Kg / Hectare)          0\n",
       "dtype: int64"
      ]
     },
     "execution_count": 73,
     "metadata": {},
     "output_type": "execute_result"
    }
   ],
   "source": [
    "df.isna().sum()"
   ]
  },
  {
   "cell_type": "code",
   "execution_count": 74,
   "id": "a344bc59",
   "metadata": {},
   "outputs": [],
   "source": [
    "df.drop(['index','Unnamed: 0'],axis=1,inplace=True)"
   ]
  },
  {
   "cell_type": "code",
   "execution_count": 75,
   "id": "8bda5f0c",
   "metadata": {},
   "outputs": [
    {
     "data": {
      "text/html": [
       "<div>\n",
       "<style scoped>\n",
       "    .dataframe tbody tr th:only-of-type {\n",
       "        vertical-align: middle;\n",
       "    }\n",
       "\n",
       "    .dataframe tbody tr th {\n",
       "        vertical-align: top;\n",
       "    }\n",
       "\n",
       "    .dataframe thead th {\n",
       "        text-align: right;\n",
       "    }\n",
       "</style>\n",
       "<table border=\"1\" class=\"dataframe\">\n",
       "  <thead>\n",
       "    <tr style=\"text-align: right;\">\n",
       "      <th></th>\n",
       "      <th>Country</th>\n",
       "      <th>Continent</th>\n",
       "      <th>Production (Tons)</th>\n",
       "      <th>Production per Person (Kg)</th>\n",
       "      <th>Acreage (Hectare)</th>\n",
       "      <th>Yield (Kg / Hectare)</th>\n",
       "    </tr>\n",
       "  </thead>\n",
       "  <tbody>\n",
       "    <tr>\n",
       "      <th>0</th>\n",
       "      <td>Brazil</td>\n",
       "      <td>South America</td>\n",
       "      <td>768678382</td>\n",
       "      <td>3668.531</td>\n",
       "      <td>10226205</td>\n",
       "      <td>75167.5</td>\n",
       "    </tr>\n",
       "    <tr>\n",
       "      <th>1</th>\n",
       "      <td>India</td>\n",
       "      <td>Asia</td>\n",
       "      <td>348448000</td>\n",
       "      <td>260721</td>\n",
       "      <td>4950000</td>\n",
       "      <td>70393.5</td>\n",
       "    </tr>\n",
       "    <tr>\n",
       "      <th>2</th>\n",
       "      <td>China</td>\n",
       "      <td>Asia</td>\n",
       "      <td>123059739</td>\n",
       "      <td>88287</td>\n",
       "      <td>1675215</td>\n",
       "      <td>73459.1</td>\n",
       "    </tr>\n",
       "    <tr>\n",
       "      <th>3</th>\n",
       "      <td>Thailand</td>\n",
       "      <td>Asia</td>\n",
       "      <td>87468496</td>\n",
       "      <td>1264.303</td>\n",
       "      <td>1336575</td>\n",
       "      <td>65442.2</td>\n",
       "    </tr>\n",
       "  </tbody>\n",
       "</table>\n",
       "</div>"
      ],
      "text/plain": [
       "    Country      Continent Production (Tons) Production per Person (Kg)  \\\n",
       "0    Brazil  South America         768678382                   3668.531   \n",
       "1     India           Asia         348448000                     260721   \n",
       "2     China           Asia         123059739                      88287   \n",
       "3  Thailand           Asia          87468496                   1264.303   \n",
       "\n",
       "  Acreage (Hectare) Yield (Kg / Hectare)  \n",
       "0          10226205              75167.5  \n",
       "1           4950000              70393.5  \n",
       "2           1675215              73459.1  \n",
       "3           1336575              65442.2  "
      ]
     },
     "execution_count": 75,
     "metadata": {},
     "output_type": "execute_result"
    }
   ],
   "source": [
    "df.head(4)"
   ]
  },
  {
   "cell_type": "code",
   "execution_count": 77,
   "id": "981440b8",
   "metadata": {},
   "outputs": [
    {
     "data": {
      "text/plain": [
       "Country                       object\n",
       "Continent                     object\n",
       "Production (Tons)             object\n",
       "Production per Person (Kg)    object\n",
       "Acreage (Hectare)             object\n",
       "Yield (Kg / Hectare)          object\n",
       "dtype: object"
      ]
     },
     "execution_count": 77,
     "metadata": {},
     "output_type": "execute_result"
    }
   ],
   "source": [
    "df.dtypes"
   ]
  },
  {
   "cell_type": "code",
   "execution_count": 78,
   "id": "4effe74e",
   "metadata": {},
   "outputs": [],
   "source": [
    "df[\"Production (Tons)\"]=df[\"Production (Tons)\"].astype(float)\n",
    "df[\"Production per Person (Kg)\"]=df[\"Production per Person (Kg)\"].astype(float)\n",
    "\n",
    "df[\"Acreage (Hectare)\"]=df[\"Acreage (Hectare)\"].astype(float)\n",
    "\n",
    "df[\"Yield (Kg / Hectare)\"]=df[\"Yield (Kg / Hectare)\"].astype(float)"
   ]
  },
  {
   "cell_type": "code",
   "execution_count": 79,
   "id": "69ac0321",
   "metadata": {},
   "outputs": [
    {
     "data": {
      "text/plain": [
       "Country                        object\n",
       "Continent                      object\n",
       "Production (Tons)             float64\n",
       "Production per Person (Kg)    float64\n",
       "Acreage (Hectare)             float64\n",
       "Yield (Kg / Hectare)          float64\n",
       "dtype: object"
      ]
     },
     "execution_count": 79,
     "metadata": {},
     "output_type": "execute_result"
    }
   ],
   "source": [
    "df.dtypes"
   ]
  },
  {
   "cell_type": "code",
   "execution_count": 81,
   "id": "9fc1c23d",
   "metadata": {},
   "outputs": [
    {
     "data": {
      "text/plain": [
       "Country                       102\n",
       "Continent                       6\n",
       "Production (Tons)             102\n",
       "Production per Person (Kg)    101\n",
       "Acreage (Hectare)             101\n",
       "Yield (Kg / Hectare)          102\n",
       "dtype: int64"
      ]
     },
     "execution_count": 81,
     "metadata": {},
     "output_type": "execute_result"
    }
   ],
   "source": [
    "df.nunique()"
   ]
  },
  {
   "cell_type": "markdown",
   "id": "157c82a5",
   "metadata": {},
   "source": [
    "### Univariate Analysis"
   ]
  },
  {
   "cell_type": "code",
   "execution_count": 82,
   "id": "1eaed4ab",
   "metadata": {},
   "outputs": [
    {
     "data": {
      "text/html": [
       "<div>\n",
       "<style scoped>\n",
       "    .dataframe tbody tr th:only-of-type {\n",
       "        vertical-align: middle;\n",
       "    }\n",
       "\n",
       "    .dataframe tbody tr th {\n",
       "        vertical-align: top;\n",
       "    }\n",
       "\n",
       "    .dataframe thead th {\n",
       "        text-align: right;\n",
       "    }\n",
       "</style>\n",
       "<table border=\"1\" class=\"dataframe\">\n",
       "  <thead>\n",
       "    <tr style=\"text-align: right;\">\n",
       "      <th></th>\n",
       "      <th>Country</th>\n",
       "      <th>Continent</th>\n",
       "      <th>Production (Tons)</th>\n",
       "      <th>Production per Person (Kg)</th>\n",
       "      <th>Acreage (Hectare)</th>\n",
       "      <th>Yield (Kg / Hectare)</th>\n",
       "    </tr>\n",
       "  </thead>\n",
       "  <tbody>\n",
       "    <tr>\n",
       "      <th>0</th>\n",
       "      <td>Brazil</td>\n",
       "      <td>South America</td>\n",
       "      <td>768678382.0</td>\n",
       "      <td>3668.531</td>\n",
       "      <td>10226205.0</td>\n",
       "      <td>75167.5</td>\n",
       "    </tr>\n",
       "    <tr>\n",
       "      <th>1</th>\n",
       "      <td>India</td>\n",
       "      <td>Asia</td>\n",
       "      <td>348448000.0</td>\n",
       "      <td>260721.000</td>\n",
       "      <td>4950000.0</td>\n",
       "      <td>70393.5</td>\n",
       "    </tr>\n",
       "    <tr>\n",
       "      <th>2</th>\n",
       "      <td>China</td>\n",
       "      <td>Asia</td>\n",
       "      <td>123059739.0</td>\n",
       "      <td>88287.000</td>\n",
       "      <td>1675215.0</td>\n",
       "      <td>73459.1</td>\n",
       "    </tr>\n",
       "    <tr>\n",
       "      <th>3</th>\n",
       "      <td>Thailand</td>\n",
       "      <td>Asia</td>\n",
       "      <td>87468496.0</td>\n",
       "      <td>1264.303</td>\n",
       "      <td>1336575.0</td>\n",
       "      <td>65442.2</td>\n",
       "    </tr>\n",
       "    <tr>\n",
       "      <th>4</th>\n",
       "      <td>Pakistan</td>\n",
       "      <td>Asia</td>\n",
       "      <td>65450704.0</td>\n",
       "      <td>324219.000</td>\n",
       "      <td>1130820.0</td>\n",
       "      <td>57879.0</td>\n",
       "    </tr>\n",
       "  </tbody>\n",
       "</table>\n",
       "</div>"
      ],
      "text/plain": [
       "    Country      Continent  Production (Tons)  Production per Person (Kg)  \\\n",
       "0    Brazil  South America        768678382.0                    3668.531   \n",
       "1     India           Asia        348448000.0                  260721.000   \n",
       "2     China           Asia        123059739.0                   88287.000   \n",
       "3  Thailand           Asia         87468496.0                    1264.303   \n",
       "4  Pakistan           Asia         65450704.0                  324219.000   \n",
       "\n",
       "   Acreage (Hectare)  Yield (Kg / Hectare)  \n",
       "0         10226205.0               75167.5  \n",
       "1          4950000.0               70393.5  \n",
       "2          1675215.0               73459.1  \n",
       "3          1336575.0               65442.2  \n",
       "4          1130820.0               57879.0  "
      ]
     },
     "execution_count": 82,
     "metadata": {},
     "output_type": "execute_result"
    }
   ],
   "source": [
    "df.head()"
   ]
  },
  {
   "cell_type": "markdown",
   "id": "68a3d948",
   "metadata": {},
   "source": [
    "### How many countries produces sugercan from each continenet?"
   ]
  },
  {
   "cell_type": "code",
   "execution_count": 85,
   "id": "cc558b99",
   "metadata": {},
   "outputs": [
    {
     "data": {
      "text/plain": [
       "Africa           38\n",
       "Asia             25\n",
       "North America    22\n",
       "South America    11\n",
       "Oceania           4\n",
       "Europe            2\n",
       "Name: Continent, dtype: int64"
      ]
     },
     "execution_count": 85,
     "metadata": {},
     "output_type": "execute_result"
    }
   ],
   "source": [
    "df['Continent'].value_counts()"
   ]
  },
  {
   "cell_type": "code",
   "execution_count": 89,
   "id": "37dcb45d",
   "metadata": {},
   "outputs": [
    {
     "data": {
      "text/plain": [
       "<AxesSubplot:>"
      ]
     },
     "execution_count": 89,
     "metadata": {},
     "output_type": "execute_result"
    },
    {
     "data": {
      "image/png": "[encoded data removed]",
      "text/plain": [
       "<Figure size 432x288 with 1 Axes>"
      ]
     },
     "metadata": {
      "needs_background": "light"
     },
     "output_type": "display_data"
    }
   ],
   "source": [
    "df['Continent'].value_counts().plot(kind= \"bar\")"
   ]
  },
  {
   "cell_type": "markdown",
   "id": "8e39ba4f",
   "metadata": {},
   "source": [
    "### Checking Outlier"
   ]
  },
  {
   "cell_type": "code",
   "execution_count": 92,
   "id": "c330f460",
   "metadata": {},
   "outputs": [
    {
     "name": "stderr",
     "output_type": "stream",
     "text": [
      "/opt/anaconda3/lib/python3.9/site-packages/seaborn/distributions.py:2619: FutureWarning: `distplot` is a deprecated function and will be removed in a future version. Please adapt your code to use either `displot` (a figure-level function with similar flexibility) or `histplot` (an axes-level function for histograms).\n",
      "  warnings.warn(msg, FutureWarning)\n",
      "/opt/anaconda3/lib/python3.9/site-packages/seaborn/distributions.py:2619: FutureWarning: `distplot` is a deprecated function and will be removed in a future version. Please adapt your code to use either `displot` (a figure-level function with similar flexibility) or `histplot` (an axes-level function for histograms).\n",
      "  warnings.warn(msg, FutureWarning)\n",
      "/opt/anaconda3/lib/python3.9/site-packages/seaborn/distributions.py:2619: FutureWarning: `distplot` is a deprecated function and will be removed in a future version. Please adapt your code to use either `displot` (a figure-level function with similar flexibility) or `histplot` (an axes-level function for histograms).\n",
      "  warnings.warn(msg, FutureWarning)\n",
      "/opt/anaconda3/lib/python3.9/site-packages/seaborn/distributions.py:2619: FutureWarning: `distplot` is a deprecated function and will be removed in a future version. Please adapt your code to use either `displot` (a figure-level function with similar flexibility) or `histplot` (an axes-level function for histograms).\n",
      "  warnings.warn(msg, FutureWarning)\n"
     ]
    },
    {
     "data": {
      "text/plain": [
       "<AxesSubplot:xlabel='Yield (Kg / Hectare)', ylabel='Density'>"
      ]
     },
     "execution_count": 92,
     "metadata": {},
     "output_type": "execute_result"
    },
    {
     "data": {
      "image/png": "[encoded data removed]",
      "text/plain": [
       "<Figure size 720x720 with 4 Axes>"
      ]
     },
     "metadata": {
      "needs_background": "light"
     },
     "output_type": "display_data"
    }
   ],
   "source": [
    "plt.figure(figsize=(10,10))\n",
    "plt.subplot(2,2,1)\n",
    "sns.distplot(df[\"Production (Tons)\"])\n",
    "\n",
    "plt.subplot(2,2,2)\n",
    "sns.distplot(df[\"Production per Person (Kg)\"])\n",
    "\n",
    "\n",
    "plt.subplot(2,2,3)\n",
    "sns.distplot(df[\"Acreage (Hectare)\"])\n",
    "\n",
    "\n",
    "plt.subplot(2,2,4)\n",
    "sns.distplot(df[\"Yield (Kg / Hectare)\"])"
   ]
  },
  {
   "cell_type": "code",
   "execution_count": 93,
   "id": "212be2b6",
   "metadata": {},
   "outputs": [
    {
     "name": "stderr",
     "output_type": "stream",
     "text": [
      "/opt/anaconda3/lib/python3.9/site-packages/seaborn/_decorators.py:36: FutureWarning: Pass the following variable as a keyword arg: x. From version 0.12, the only valid positional argument will be `data`, and passing other arguments without an explicit keyword will result in an error or misinterpretation.\n",
      "  warnings.warn(\n",
      "/opt/anaconda3/lib/python3.9/site-packages/seaborn/_decorators.py:36: FutureWarning: Pass the following variable as a keyword arg: x. From version 0.12, the only valid positional argument will be `data`, and passing other arguments without an explicit keyword will result in an error or misinterpretation.\n",
      "  warnings.warn(\n",
      "/opt/anaconda3/lib/python3.9/site-packages/seaborn/_decorators.py:36: FutureWarning: Pass the following variable as a keyword arg: x. From version 0.12, the only valid positional argument will be `data`, and passing other arguments without an explicit keyword will result in an error or misinterpretation.\n",
      "  warnings.warn(\n",
      "/opt/anaconda3/lib/python3.9/site-packages/seaborn/_decorators.py:36: FutureWarning: Pass the following variable as a keyword arg: x. From version 0.12, the only valid positional argument will be `data`, and passing other arguments without an explicit keyword will result in an error or misinterpretation.\n",
      "  warnings.warn(\n"
     ]
    },
    {
     "data": {
      "text/plain": [
       "<AxesSubplot:xlabel='Yield (Kg / Hectare)'>"
      ]
     },
     "execution_count": 93,
     "metadata": {},
     "output_type": "execute_result"
    },
    {
     "data": {
      "image/png": "[encoded data removed]",
      "text/plain": [
       "<Figure size 720x720 with 4 Axes>"
      ]
     },
     "metadata": {
      "needs_background": "light"
     },
     "output_type": "display_data"
    }
   ],
   "source": [
    "plt.figure(figsize=(10,10))\n",
    "plt.subplot(2,2,1)\n",
    "sns.boxplot(df[\"Production (Tons)\"])\n",
    "\n",
    "plt.subplot(2,2,2)\n",
    "sns.boxplot(df[\"Production per Person (Kg)\"])\n",
    "\n",
    "\n",
    "plt.subplot(2,2,3)\n",
    "sns.boxplot(df[\"Acreage (Hectare)\"])\n",
    "\n",
    "\n",
    "plt.subplot(2,2,4)\n",
    "sns.boxplot(df[\"Yield (Kg / Hectare)\"])"
   ]
  },
  {
   "cell_type": "code",
   "execution_count": 94,
   "id": "970b2ad7",
   "metadata": {},
   "outputs": [
    {
     "data": {
      "text/html": [
       "<div>\n",
       "<style scoped>\n",
       "    .dataframe tbody tr th:only-of-type {\n",
       "        vertical-align: middle;\n",
       "    }\n",
       "\n",
       "    .dataframe tbody tr th {\n",
       "        vertical-align: top;\n",
       "    }\n",
       "\n",
       "    .dataframe thead th {\n",
       "        text-align: right;\n",
       "    }\n",
       "</style>\n",
       "<table border=\"1\" class=\"dataframe\">\n",
       "  <thead>\n",
       "    <tr style=\"text-align: right;\">\n",
       "      <th></th>\n",
       "      <th>Production (Tons)</th>\n",
       "      <th>Production per Person (Kg)</th>\n",
       "      <th>Acreage (Hectare)</th>\n",
       "      <th>Yield (Kg / Hectare)</th>\n",
       "    </tr>\n",
       "  </thead>\n",
       "  <tbody>\n",
       "    <tr>\n",
       "      <th>count</th>\n",
       "      <td>1.020000e+02</td>\n",
       "      <td>102.000000</td>\n",
       "      <td>1.020000e+02</td>\n",
       "      <td>102.000000</td>\n",
       "    </tr>\n",
       "    <tr>\n",
       "      <th>mean</th>\n",
       "      <td>1.850372e+07</td>\n",
       "      <td>112952.435755</td>\n",
       "      <td>2.498981e+05</td>\n",
       "      <td>52628.078431</td>\n",
       "    </tr>\n",
       "    <tr>\n",
       "      <th>std</th>\n",
       "      <td>8.419149e+07</td>\n",
       "      <td>176651.341929</td>\n",
       "      <td>1.137003e+06</td>\n",
       "      <td>30504.676683</td>\n",
       "    </tr>\n",
       "    <tr>\n",
       "      <th>min</th>\n",
       "      <td>1.000000e+00</td>\n",
       "      <td>0.000000</td>\n",
       "      <td>0.000000e+00</td>\n",
       "      <td>10.000000</td>\n",
       "    </tr>\n",
       "    <tr>\n",
       "      <th>25%</th>\n",
       "      <td>6.251875e+04</td>\n",
       "      <td>3671.910000</td>\n",
       "      <td>1.104000e+03</td>\n",
       "      <td>29072.025000</td>\n",
       "    </tr>\n",
       "    <tr>\n",
       "      <th>50%</th>\n",
       "      <td>1.440044e+06</td>\n",
       "      <td>25572.500000</td>\n",
       "      <td>1.655800e+04</td>\n",
       "      <td>54108.950000</td>\n",
       "    </tr>\n",
       "    <tr>\n",
       "      <th>75%</th>\n",
       "      <td>6.426824e+06</td>\n",
       "      <td>146384.750000</td>\n",
       "      <td>8.047400e+04</td>\n",
       "      <td>73282.700000</td>\n",
       "    </tr>\n",
       "    <tr>\n",
       "      <th>max</th>\n",
       "      <td>7.686784e+08</td>\n",
       "      <td>951087.000000</td>\n",
       "      <td>1.022620e+07</td>\n",
       "      <td>129049.300000</td>\n",
       "    </tr>\n",
       "  </tbody>\n",
       "</table>\n",
       "</div>"
      ],
      "text/plain": [
       "       Production (Tons)  Production per Person (Kg)  Acreage (Hectare)  \\\n",
       "count       1.020000e+02                  102.000000       1.020000e+02   \n",
       "mean        1.850372e+07               112952.435755       2.498981e+05   \n",
       "std         8.419149e+07               176651.341929       1.137003e+06   \n",
       "min         1.000000e+00                    0.000000       0.000000e+00   \n",
       "25%         6.251875e+04                 3671.910000       1.104000e+03   \n",
       "50%         1.440044e+06                25572.500000       1.655800e+04   \n",
       "75%         6.426824e+06               146384.750000       8.047400e+04   \n",
       "max         7.686784e+08               951087.000000       1.022620e+07   \n",
       "\n",
       "       Yield (Kg / Hectare)  \n",
       "count            102.000000  \n",
       "mean           52628.078431  \n",
       "std            30504.676683  \n",
       "min               10.000000  \n",
       "25%            29072.025000  \n",
       "50%            54108.950000  \n",
       "75%            73282.700000  \n",
       "max           129049.300000  "
      ]
     },
     "execution_count": 94,
     "metadata": {},
     "output_type": "execute_result"
    }
   ],
   "source": [
    "df.describe()"
   ]
  },
  {
   "cell_type": "markdown",
   "id": "b4b6c9f4",
   "metadata": {},
   "source": [
    "### Bivariate Analysis"
   ]
  },
  {
   "cell_type": "code",
   "execution_count": 95,
   "id": "33296ac4",
   "metadata": {},
   "outputs": [
    {
     "data": {
      "text/html": [
       "<div>\n",
       "<style scoped>\n",
       "    .dataframe tbody tr th:only-of-type {\n",
       "        vertical-align: middle;\n",
       "    }\n",
       "\n",
       "    .dataframe tbody tr th {\n",
       "        vertical-align: top;\n",
       "    }\n",
       "\n",
       "    .dataframe thead th {\n",
       "        text-align: right;\n",
       "    }\n",
       "</style>\n",
       "<table border=\"1\" class=\"dataframe\">\n",
       "  <thead>\n",
       "    <tr style=\"text-align: right;\">\n",
       "      <th></th>\n",
       "      <th>Country</th>\n",
       "      <th>Continent</th>\n",
       "      <th>Production (Tons)</th>\n",
       "      <th>Production per Person (Kg)</th>\n",
       "      <th>Acreage (Hectare)</th>\n",
       "      <th>Yield (Kg / Hectare)</th>\n",
       "    </tr>\n",
       "  </thead>\n",
       "  <tbody>\n",
       "    <tr>\n",
       "      <th>0</th>\n",
       "      <td>Brazil</td>\n",
       "      <td>South America</td>\n",
       "      <td>768678382.0</td>\n",
       "      <td>3668.531</td>\n",
       "      <td>10226205.0</td>\n",
       "      <td>75167.5</td>\n",
       "    </tr>\n",
       "    <tr>\n",
       "      <th>1</th>\n",
       "      <td>India</td>\n",
       "      <td>Asia</td>\n",
       "      <td>348448000.0</td>\n",
       "      <td>260721.000</td>\n",
       "      <td>4950000.0</td>\n",
       "      <td>70393.5</td>\n",
       "    </tr>\n",
       "    <tr>\n",
       "      <th>2</th>\n",
       "      <td>China</td>\n",
       "      <td>Asia</td>\n",
       "      <td>123059739.0</td>\n",
       "      <td>88287.000</td>\n",
       "      <td>1675215.0</td>\n",
       "      <td>73459.1</td>\n",
       "    </tr>\n",
       "    <tr>\n",
       "      <th>3</th>\n",
       "      <td>Thailand</td>\n",
       "      <td>Asia</td>\n",
       "      <td>87468496.0</td>\n",
       "      <td>1264.303</td>\n",
       "      <td>1336575.0</td>\n",
       "      <td>65442.2</td>\n",
       "    </tr>\n",
       "    <tr>\n",
       "      <th>4</th>\n",
       "      <td>Pakistan</td>\n",
       "      <td>Asia</td>\n",
       "      <td>65450704.0</td>\n",
       "      <td>324219.000</td>\n",
       "      <td>1130820.0</td>\n",
       "      <td>57879.0</td>\n",
       "    </tr>\n",
       "  </tbody>\n",
       "</table>\n",
       "</div>"
      ],
      "text/plain": [
       "    Country      Continent  Production (Tons)  Production per Person (Kg)  \\\n",
       "0    Brazil  South America        768678382.0                    3668.531   \n",
       "1     India           Asia        348448000.0                  260721.000   \n",
       "2     China           Asia        123059739.0                   88287.000   \n",
       "3  Thailand           Asia         87468496.0                    1264.303   \n",
       "4  Pakistan           Asia         65450704.0                  324219.000   \n",
       "\n",
       "   Acreage (Hectare)  Yield (Kg / Hectare)  \n",
       "0         10226205.0               75167.5  \n",
       "1          4950000.0               70393.5  \n",
       "2          1675215.0               73459.1  \n",
       "3          1336575.0               65442.2  \n",
       "4          1130820.0               57879.0  "
      ]
     },
     "execution_count": 95,
     "metadata": {},
     "output_type": "execute_result"
    }
   ],
   "source": [
    "df.head()"
   ]
  },
  {
   "cell_type": "markdown",
   "id": "38b4721d",
   "metadata": {},
   "source": [
    "#### Which countries produces  maximum sugercan ?"
   ]
  },
  {
   "cell_type": "code",
   "execution_count": 98,
   "id": "32d0f744",
   "metadata": {},
   "outputs": [],
   "source": [
    "df_new=df[['Country','Production (Tons)']].set_index(\"Country\")"
   ]
  },
  {
   "cell_type": "code",
   "execution_count": 109,
   "id": "f53e23ca",
   "metadata": {},
   "outputs": [
    {
     "data": {
      "text/html": [
       "<div>\n",
       "<style scoped>\n",
       "    .dataframe tbody tr th:only-of-type {\n",
       "        vertical-align: middle;\n",
       "    }\n",
       "\n",
       "    .dataframe tbody tr th {\n",
       "        vertical-align: top;\n",
       "    }\n",
       "\n",
       "    .dataframe thead th {\n",
       "        text-align: right;\n",
       "    }\n",
       "</style>\n",
       "<table border=\"1\" class=\"dataframe\">\n",
       "  <thead>\n",
       "    <tr style=\"text-align: right;\">\n",
       "      <th></th>\n",
       "      <th>Production (Tons)</th>\n",
       "    </tr>\n",
       "    <tr>\n",
       "      <th>Country</th>\n",
       "      <th></th>\n",
       "    </tr>\n",
       "  </thead>\n",
       "  <tbody>\n",
       "    <tr>\n",
       "      <th>Brazil</th>\n",
       "      <td>768678382.0</td>\n",
       "    </tr>\n",
       "    <tr>\n",
       "      <th>India</th>\n",
       "      <td>348448000.0</td>\n",
       "    </tr>\n",
       "    <tr>\n",
       "      <th>China</th>\n",
       "      <td>123059739.0</td>\n",
       "    </tr>\n",
       "    <tr>\n",
       "      <th>Thailand</th>\n",
       "      <td>87468496.0</td>\n",
       "    </tr>\n",
       "    <tr>\n",
       "      <th>Pakistan</th>\n",
       "      <td>65450704.0</td>\n",
       "    </tr>\n",
       "    <tr>\n",
       "      <th>...</th>\n",
       "      <td>...</td>\n",
       "    </tr>\n",
       "    <tr>\n",
       "      <th>Spain</th>\n",
       "      <td>394.0</td>\n",
       "    </tr>\n",
       "    <tr>\n",
       "      <th>Lebanon</th>\n",
       "      <td>97.0</td>\n",
       "    </tr>\n",
       "    <tr>\n",
       "      <th>Singapore</th>\n",
       "      <td>50.0</td>\n",
       "    </tr>\n",
       "    <tr>\n",
       "      <th>Samoa</th>\n",
       "      <td>12.0</td>\n",
       "    </tr>\n",
       "    <tr>\n",
       "      <th>Syria</th>\n",
       "      <td>1.0</td>\n",
       "    </tr>\n",
       "  </tbody>\n",
       "</table>\n",
       "<p>102 rows × 1 columns</p>\n",
       "</div>"
      ],
      "text/plain": [
       "           Production (Tons)\n",
       "Country                     \n",
       "Brazil           768678382.0\n",
       "India            348448000.0\n",
       "China            123059739.0\n",
       "Thailand          87468496.0\n",
       "Pakistan          65450704.0\n",
       "...                      ...\n",
       "Spain                  394.0\n",
       "Lebanon                 97.0\n",
       "Singapore               50.0\n",
       "Samoa                   12.0\n",
       "Syria                    1.0\n",
       "\n",
       "[102 rows x 1 columns]"
      ]
     },
     "execution_count": 109,
     "metadata": {},
     "output_type": "execute_result"
    }
   ],
   "source": [
    "df_new"
   ]
  },
  {
   "cell_type": "code",
   "execution_count": 115,
   "id": "b1c4b783",
   "metadata": {},
   "outputs": [],
   "source": [
    "df_new['Production (Tons)_percent']=df_new['Production (Tons)']*100/df_new['Production (Tons)'].sum()"
   ]
  },
  {
   "cell_type": "code",
   "execution_count": 116,
   "id": "1aa5bc7f",
   "metadata": {},
   "outputs": [
    {
     "data": {
      "text/plain": [
       "Country\n",
       "Brazil       4.072729e+01\n",
       "India        1.846200e+01\n",
       "China        6.520138e+00\n",
       "Thailand     4.634389e+00\n",
       "Pakistan     3.467809e+00\n",
       "                 ...     \n",
       "Spain        2.087551e-05\n",
       "Lebanon      5.139401e-06\n",
       "Singapore    2.649176e-06\n",
       "Samoa        6.358022e-07\n",
       "Syria        5.298352e-08\n",
       "Name: Production (Tons)_percent, Length: 102, dtype: float64"
      ]
     },
     "execution_count": 116,
     "metadata": {},
     "output_type": "execute_result"
    }
   ],
   "source": [
    "df_new['Production (Tons)_percent']"
   ]
  },
  {
   "cell_type": "code",
   "execution_count": 117,
   "id": "f20b8f67",
   "metadata": {},
   "outputs": [
    {
     "data": {
      "text/html": [
       "<div>\n",
       "<style scoped>\n",
       "    .dataframe tbody tr th:only-of-type {\n",
       "        vertical-align: middle;\n",
       "    }\n",
       "\n",
       "    .dataframe tbody tr th {\n",
       "        vertical-align: top;\n",
       "    }\n",
       "\n",
       "    .dataframe thead th {\n",
       "        text-align: right;\n",
       "    }\n",
       "</style>\n",
       "<table border=\"1\" class=\"dataframe\">\n",
       "  <thead>\n",
       "    <tr style=\"text-align: right;\">\n",
       "      <th></th>\n",
       "      <th>Production (Tons)</th>\n",
       "      <th>Production (Tons)_percent</th>\n",
       "    </tr>\n",
       "    <tr>\n",
       "      <th>Country</th>\n",
       "      <th></th>\n",
       "      <th></th>\n",
       "    </tr>\n",
       "  </thead>\n",
       "  <tbody>\n",
       "    <tr>\n",
       "      <th>Brazil</th>\n",
       "      <td>768678382.0</td>\n",
       "      <td>4.072729e+01</td>\n",
       "    </tr>\n",
       "    <tr>\n",
       "      <th>India</th>\n",
       "      <td>348448000.0</td>\n",
       "      <td>1.846200e+01</td>\n",
       "    </tr>\n",
       "    <tr>\n",
       "      <th>China</th>\n",
       "      <td>123059739.0</td>\n",
       "      <td>6.520138e+00</td>\n",
       "    </tr>\n",
       "    <tr>\n",
       "      <th>Thailand</th>\n",
       "      <td>87468496.0</td>\n",
       "      <td>4.634389e+00</td>\n",
       "    </tr>\n",
       "    <tr>\n",
       "      <th>Pakistan</th>\n",
       "      <td>65450704.0</td>\n",
       "      <td>3.467809e+00</td>\n",
       "    </tr>\n",
       "    <tr>\n",
       "      <th>...</th>\n",
       "      <td>...</td>\n",
       "      <td>...</td>\n",
       "    </tr>\n",
       "    <tr>\n",
       "      <th>Spain</th>\n",
       "      <td>394.0</td>\n",
       "      <td>2.087551e-05</td>\n",
       "    </tr>\n",
       "    <tr>\n",
       "      <th>Lebanon</th>\n",
       "      <td>97.0</td>\n",
       "      <td>5.139401e-06</td>\n",
       "    </tr>\n",
       "    <tr>\n",
       "      <th>Singapore</th>\n",
       "      <td>50.0</td>\n",
       "      <td>2.649176e-06</td>\n",
       "    </tr>\n",
       "    <tr>\n",
       "      <th>Samoa</th>\n",
       "      <td>12.0</td>\n",
       "      <td>6.358022e-07</td>\n",
       "    </tr>\n",
       "    <tr>\n",
       "      <th>Syria</th>\n",
       "      <td>1.0</td>\n",
       "      <td>5.298352e-08</td>\n",
       "    </tr>\n",
       "  </tbody>\n",
       "</table>\n",
       "<p>102 rows × 2 columns</p>\n",
       "</div>"
      ],
      "text/plain": [
       "           Production (Tons)  Production (Tons)_percent\n",
       "Country                                                \n",
       "Brazil           768678382.0               4.072729e+01\n",
       "India            348448000.0               1.846200e+01\n",
       "China            123059739.0               6.520138e+00\n",
       "Thailand          87468496.0               4.634389e+00\n",
       "Pakistan          65450704.0               3.467809e+00\n",
       "...                      ...                        ...\n",
       "Spain                  394.0               2.087551e-05\n",
       "Lebanon                 97.0               5.139401e-06\n",
       "Singapore               50.0               2.649176e-06\n",
       "Samoa                   12.0               6.358022e-07\n",
       "Syria                    1.0               5.298352e-08\n",
       "\n",
       "[102 rows x 2 columns]"
      ]
     },
     "execution_count": 117,
     "metadata": {},
     "output_type": "execute_result"
    }
   ],
   "source": [
    "df_new"
   ]
  },
  {
   "cell_type": "code",
   "execution_count": 118,
   "id": "d4d0f7e8",
   "metadata": {},
   "outputs": [
    {
     "data": {
      "text/plain": [
       "<AxesSubplot:ylabel='Production (Tons)_percent'>"
      ]
     },
     "execution_count": 118,
     "metadata": {},
     "output_type": "execute_result"
    },
    {
     "data": {
      "image/png": "[encoded data removed]",
      "text/plain": [
       "<Figure size 432x288 with 1 Axes>"
      ]
     },
     "metadata": {},
     "output_type": "display_data"
    }
   ],
   "source": [
    "df_new['Production (Tons)_percent'].plot(kind=\"pie\",autopct=\"%2f\")"
   ]
  },
  {
   "cell_type": "code",
   "execution_count": 119,
   "id": "5cd75b6a",
   "metadata": {},
   "outputs": [
    {
     "data": {
      "text/plain": [
       "<AxesSubplot:xlabel='Country'>"
      ]
     },
     "execution_count": 119,
     "metadata": {},
     "output_type": "execute_result"
    },
    {
     "data": {
      "image/png": "[encoded data removed]",
      "text/plain": [
       "<Figure size 432x288 with 1 Axes>"
      ]
     },
     "metadata": {
      "needs_background": "light"
     },
     "output_type": "display_data"
    }
   ],
   "source": [
    "df_new['Production (Tons)_percent'].plot(kind=\"bar\")"
   ]
  },
  {
   "cell_type": "code",
   "execution_count": 120,
   "id": "e40f5755",
   "metadata": {},
   "outputs": [
    {
     "data": {
      "text/plain": [
       "<AxesSubplot:xlabel='Country'>"
      ]
     },
     "execution_count": 120,
     "metadata": {},
     "output_type": "execute_result"
    },
    {
     "data": {
      "image/png": "[encoded data removed]",
      "text/plain": [
       "<Figure size 432x288 with 1 Axes>"
      ]
     },
     "metadata": {
      "needs_background": "light"
     },
     "output_type": "display_data"
    }
   ],
   "source": [
    "df_new['Production (Tons)_percent'].head(10).plot(kind=\"bar\")"
   ]
  },
  {
   "cell_type": "code",
   "execution_count": 124,
   "id": "83adcb5d",
   "metadata": {},
   "outputs": [
    {
     "data": {
      "image/png": "[encoded data removed]",
      "text/plain": [
       "<Figure size 432x288 with 1 Axes>"
      ]
     },
     "metadata": {
      "needs_background": "light"
     },
     "output_type": "display_data"
    }
   ],
   "source": [
    "ax=sns.barplot(data=df.head(10))"
   ]
  },
  {
   "cell_type": "code",
   "execution_count": 139,
   "id": "48aaba87",
   "metadata": {},
   "outputs": [
    {
     "data": {
      "image/png": "[encoded data removed]",
      "text/plain": [
       "<Figure size 432x288 with 1 Axes>"
      ]
     },
     "metadata": {
      "needs_background": "light"
     },
     "output_type": "display_data"
    }
   ],
   "source": [
    "ax = sns.barplot(data = df.head(10), x = \"Country\", y =\"Acreage (Hectare)\")\n",
    "ax.set_xticklabels(ax.get_xticklabels(),rotation = 90)\n",
    "plt.show()"
   ]
  },
  {
   "cell_type": "code",
   "execution_count": 140,
   "id": "d2fed334",
   "metadata": {},
   "outputs": [
    {
     "data": {
      "image/png": "[encoded data removed]",
      "text/plain": [
       "<Figure size 432x288 with 1 Axes>"
      ]
     },
     "metadata": {
      "needs_background": "light"
     },
     "output_type": "display_data"
    }
   ],
   "source": [
    "ax = sns.barplot(data = df.head(10), x = \"Country\", y =\"Production (Tons)\")\n",
    "ax.set_xticklabels(ax.get_xticklabels(),rotation = 90)\n",
    "plt.show()"
   ]
  },
  {
   "cell_type": "code",
   "execution_count": 142,
   "id": "7ee976f3",
   "metadata": {},
   "outputs": [
    {
     "data": {
      "image/png": "[encoded data removed]",
      "text/plain": [
       "<Figure size 432x288 with 1 Axes>"
      ]
     },
     "metadata": {
      "needs_background": "light"
     },
     "output_type": "display_data"
    }
   ],
   "source": [
    "\n",
    "df_acr=df.sort_values(\"Acreage (Hectare)\",ascending=False)\n",
    "ax = sns.barplot(data = df.head(10), x = \"Country\", y =\"Acreage (Hectare)\")\n",
    "ax.set_xticklabels(ax.get_xticklabels(),rotation = 90)\n",
    "plt.show()"
   ]
  },
  {
   "cell_type": "markdown",
   "id": "a465044b",
   "metadata": {},
   "source": [
    "### Which country has highest yield per hactare?"
   ]
  },
  {
   "cell_type": "code",
   "execution_count": 145,
   "id": "8f157c4e",
   "metadata": {},
   "outputs": [
    {
     "data": {
      "image/png": "[encoded data removed]",
      "text/plain": [
       "<Figure size 432x288 with 1 Axes>"
      ]
     },
     "metadata": {
      "needs_background": "light"
     },
     "output_type": "display_data"
    }
   ],
   "source": [
    "\n",
    "\n",
    "df_yield=df.sort_values(\"Yield (Kg / Hectare)\",ascending=False)\n",
    "ax = sns.barplot(data = df_yield.head(10), x = \"Country\", y =\"Yield (Kg / Hectare)\")\n",
    "ax.set_xticklabels(ax.get_xticklabels(),rotation = 90)\n",
    "plt.show()"
   ]
  },
  {
   "cell_type": "markdown",
   "id": "40f7c8e9",
   "metadata": {},
   "source": [
    "### Which Country has highest production?"
   ]
  },
  {
   "cell_type": "code",
   "execution_count": 147,
   "id": "8de1908e",
   "metadata": {},
   "outputs": [
    {
     "data": {
      "image/png": "[encoded data removed]",
      "text/plain": [
       "<Figure size 432x288 with 1 Axes>"
      ]
     },
     "metadata": {
      "needs_background": "light"
     },
     "output_type": "display_data"
    }
   ],
   "source": [
    "\n",
    "df_prod=df.sort_values(\"Production (Tons)\",ascending=False)\n",
    "ax = sns.barplot(data = df_prod.head(10), x = \"Country\", y =\"Production (Tons)\")\n",
    "ax.set_xticklabels(ax.get_xticklabels(),rotation = 90)\n",
    "plt.show()"
   ]
  },
  {
   "cell_type": "markdown",
   "id": "80cba198",
   "metadata": {},
   "source": [
    "### Correlation"
   ]
  },
  {
   "cell_type": "code",
   "execution_count": 148,
   "id": "e45c1f5e",
   "metadata": {},
   "outputs": [
    {
     "data": {
      "text/html": [
       "<div>\n",
       "<style scoped>\n",
       "    .dataframe tbody tr th:only-of-type {\n",
       "        vertical-align: middle;\n",
       "    }\n",
       "\n",
       "    .dataframe tbody tr th {\n",
       "        vertical-align: top;\n",
       "    }\n",
       "\n",
       "    .dataframe thead th {\n",
       "        text-align: right;\n",
       "    }\n",
       "</style>\n",
       "<table border=\"1\" class=\"dataframe\">\n",
       "  <thead>\n",
       "    <tr style=\"text-align: right;\">\n",
       "      <th></th>\n",
       "      <th>Production (Tons)</th>\n",
       "      <th>Production per Person (Kg)</th>\n",
       "      <th>Acreage (Hectare)</th>\n",
       "      <th>Yield (Kg / Hectare)</th>\n",
       "    </tr>\n",
       "  </thead>\n",
       "  <tbody>\n",
       "    <tr>\n",
       "      <th>Production (Tons)</th>\n",
       "      <td>1.000000</td>\n",
       "      <td>0.015000</td>\n",
       "      <td>0.997550</td>\n",
       "      <td>0.132812</td>\n",
       "    </tr>\n",
       "    <tr>\n",
       "      <th>Production per Person (Kg)</th>\n",
       "      <td>0.015000</td>\n",
       "      <td>1.000000</td>\n",
       "      <td>0.012557</td>\n",
       "      <td>0.017999</td>\n",
       "    </tr>\n",
       "    <tr>\n",
       "      <th>Acreage (Hectare)</th>\n",
       "      <td>0.997550</td>\n",
       "      <td>0.012557</td>\n",
       "      <td>1.000000</td>\n",
       "      <td>0.113433</td>\n",
       "    </tr>\n",
       "    <tr>\n",
       "      <th>Yield (Kg / Hectare)</th>\n",
       "      <td>0.132812</td>\n",
       "      <td>0.017999</td>\n",
       "      <td>0.113433</td>\n",
       "      <td>1.000000</td>\n",
       "    </tr>\n",
       "  </tbody>\n",
       "</table>\n",
       "</div>"
      ],
      "text/plain": [
       "                            Production (Tons)  Production per Person (Kg)  \\\n",
       "Production (Tons)                    1.000000                    0.015000   \n",
       "Production per Person (Kg)           0.015000                    1.000000   \n",
       "Acreage (Hectare)                    0.997550                    0.012557   \n",
       "Yield (Kg / Hectare)                 0.132812                    0.017999   \n",
       "\n",
       "                            Acreage (Hectare)  Yield (Kg / Hectare)  \n",
       "Production (Tons)                    0.997550              0.132812  \n",
       "Production per Person (Kg)           0.012557              0.017999  \n",
       "Acreage (Hectare)                    1.000000              0.113433  \n",
       "Yield (Kg / Hectare)                 0.113433              1.000000  "
      ]
     },
     "execution_count": 148,
     "metadata": {},
     "output_type": "execute_result"
    }
   ],
   "source": [
    "df.corr()"
   ]
  },
  {
   "cell_type": "code",
   "execution_count": 156,
   "id": "89d0cd96",
   "metadata": {},
   "outputs": [
    {
     "data": {
      "text/plain": [
       "<AxesSubplot:>"
      ]
     },
     "execution_count": 156,
     "metadata": {},
     "output_type": "execute_result"
    },
    {
     "data": {
      "image/png": "[encoded data removed]",
      "text/plain": [
       "<Figure size 432x288 with 2 Axes>"
      ]
     },
     "metadata": {
      "needs_background": "light"
     },
     "output_type": "display_data"
    }
   ],
   "source": [
    "sns.heatmap(df.corr(),annot=True,cmap='Greens')"
   ]
  },
  {
   "cell_type": "markdown",
   "id": "ee5f8a13",
   "metadata": {},
   "source": [
    "### Do country with highest land produce more sugercane?"
   ]
  },
  {
   "cell_type": "code",
   "execution_count": 157,
   "id": "fd1835d6",
   "metadata": {},
   "outputs": [
    {
     "data": {
      "text/plain": [
       "<AxesSubplot:xlabel='Acreage (Hectare)', ylabel='Production (Tons)'>"
      ]
     },
     "execution_count": 157,
     "metadata": {},
     "output_type": "execute_result"
    },
    {
     "data": {
      "image/png": "[encoded data removed]",
      "text/plain": [
       "<Figure size 432x288 with 1 Axes>"
      ]
     },
     "metadata": {
      "needs_background": "light"
     },
     "output_type": "display_data"
    }
   ],
   "source": [
    "sns.scatterplot(data=df,x=\"Acreage (Hectare)\",y=\"Production (Tons)\")"
   ]
  },
  {
   "cell_type": "markdown",
   "id": "585ec615",
   "metadata": {},
   "source": [
    "### Do countries which yield more sugarcane per hectare produces more sugarcane in total?"
   ]
  },
  {
   "cell_type": "code",
   "execution_count": 171,
   "id": "e66830af",
   "metadata": {},
   "outputs": [
    {
     "data": {
      "text/plain": [
       "<AxesSubplot:xlabel='Yield (Kg / Hectare)', ylabel='Production (Tons)'>"
      ]
     },
     "execution_count": 171,
     "metadata": {},
     "output_type": "execute_result"
    },
    {
     "data": {
      "image/png": "[encoded data removed]",
      "text/plain": [
       "<Figure size 432x288 with 1 Axes>"
      ]
     },
     "metadata": {
      "needs_background": "light"
     },
     "output_type": "display_data"
    }
   ],
   "source": [
    "sns.scatterplot(data = df,x =\"Yield (Kg / Hectare)\", y= \"Production (Tons)\") "
   ]
  },
  {
   "cell_type": "markdown",
   "id": "916bd552",
   "metadata": {},
   "source": [
    "### Analysis for continent"
   ]
  },
  {
   "cell_type": "code",
   "execution_count": 173,
   "id": "80abeb39",
   "metadata": {},
   "outputs": [],
   "source": [
    "df_Continent=df.groupby(\"Continent\").sum()"
   ]
  },
  {
   "cell_type": "code",
   "execution_count": 174,
   "id": "ea81e7ff",
   "metadata": {},
   "outputs": [
    {
     "data": {
      "text/html": [
       "<div>\n",
       "<style scoped>\n",
       "    .dataframe tbody tr th:only-of-type {\n",
       "        vertical-align: middle;\n",
       "    }\n",
       "\n",
       "    .dataframe tbody tr th {\n",
       "        vertical-align: top;\n",
       "    }\n",
       "\n",
       "    .dataframe thead th {\n",
       "        text-align: right;\n",
       "    }\n",
       "</style>\n",
       "<table border=\"1\" class=\"dataframe\">\n",
       "  <thead>\n",
       "    <tr style=\"text-align: right;\">\n",
       "      <th></th>\n",
       "      <th>Production (Tons)</th>\n",
       "      <th>Production per Person (Kg)</th>\n",
       "      <th>Acreage (Hectare)</th>\n",
       "      <th>Yield (Kg / Hectare)</th>\n",
       "    </tr>\n",
       "    <tr>\n",
       "      <th>Continent</th>\n",
       "      <th></th>\n",
       "      <th></th>\n",
       "      <th></th>\n",
       "      <th></th>\n",
       "    </tr>\n",
       "  </thead>\n",
       "  <tbody>\n",
       "    <tr>\n",
       "      <th>Africa</th>\n",
       "      <td>89681472.0</td>\n",
       "      <td>2332636.293</td>\n",
       "      <td>1439089.0</td>\n",
       "      <td>2142107.5</td>\n",
       "    </tr>\n",
       "    <tr>\n",
       "      <th>Asia</th>\n",
       "      <td>721930425.0</td>\n",
       "      <td>1857769.303</td>\n",
       "      <td>10608319.0</td>\n",
       "      <td>1171871.4</td>\n",
       "    </tr>\n",
       "    <tr>\n",
       "      <th>Europe</th>\n",
       "      <td>5823.0</td>\n",
       "      <td>536.000</td>\n",
       "      <td>71.0</td>\n",
       "      <td>131870.9</td>\n",
       "    </tr>\n",
       "    <tr>\n",
       "      <th>North America</th>\n",
       "      <td>173995947.0</td>\n",
       "      <td>3796081.508</td>\n",
       "      <td>1581983.0</td>\n",
       "      <td>1082602.4</td>\n",
       "    </tr>\n",
       "    <tr>\n",
       "      <th>Oceania</th>\n",
       "      <td>36177574.0</td>\n",
       "      <td>28593.605</td>\n",
       "      <td>490909.0</td>\n",
       "      <td>162419.1</td>\n",
       "    </tr>\n",
       "    <tr>\n",
       "      <th>South America</th>\n",
       "      <td>865588126.0</td>\n",
       "      <td>3505531.738</td>\n",
       "      <td>11369236.0</td>\n",
       "      <td>677192.7</td>\n",
       "    </tr>\n",
       "  </tbody>\n",
       "</table>\n",
       "</div>"
      ],
      "text/plain": [
       "               Production (Tons)  Production per Person (Kg)  \\\n",
       "Continent                                                      \n",
       "Africa                89681472.0                 2332636.293   \n",
       "Asia                 721930425.0                 1857769.303   \n",
       "Europe                    5823.0                     536.000   \n",
       "North America        173995947.0                 3796081.508   \n",
       "Oceania               36177574.0                   28593.605   \n",
       "South America        865588126.0                 3505531.738   \n",
       "\n",
       "               Acreage (Hectare)  Yield (Kg / Hectare)  \n",
       "Continent                                               \n",
       "Africa                 1439089.0             2142107.5  \n",
       "Asia                  10608319.0             1171871.4  \n",
       "Europe                      71.0              131870.9  \n",
       "North America          1581983.0             1082602.4  \n",
       "Oceania                 490909.0              162419.1  \n",
       "South America         11369236.0              677192.7  "
      ]
     },
     "execution_count": 174,
     "metadata": {},
     "output_type": "execute_result"
    }
   ],
   "source": [
    "df_Continent"
   ]
  },
  {
   "cell_type": "markdown",
   "id": "8a60926f",
   "metadata": {},
   "source": [
    "### Which country produces maximun sugercabe?"
   ]
  },
  {
   "cell_type": "code",
   "execution_count": 176,
   "id": "446f6da9",
   "metadata": {},
   "outputs": [
    {
     "data": {
      "text/plain": [
       "Continent\n",
       "South America    865588126.0\n",
       "Asia             721930425.0\n",
       "North America    173995947.0\n",
       "Africa            89681472.0\n",
       "Oceania           36177574.0\n",
       "Europe                5823.0\n",
       "Name: Production (Tons), dtype: float64"
      ]
     },
     "execution_count": 176,
     "metadata": {},
     "output_type": "execute_result"
    }
   ],
   "source": [
    "df_Continent[\"Production (Tons)\"].sort_values(ascending=False)"
   ]
  },
  {
   "cell_type": "markdown",
   "id": "94647c99",
   "metadata": {},
   "source": [
    "### Highest Land"
   ]
  },
  {
   "cell_type": "code",
   "execution_count": 178,
   "id": "ebf58f71",
   "metadata": {},
   "outputs": [
    {
     "data": {
      "text/plain": [
       "<AxesSubplot:xlabel='Continent'>"
      ]
     },
     "execution_count": 178,
     "metadata": {},
     "output_type": "execute_result"
    },
    {
     "data": {
      "image/png": "[encoded data removed]",
      "text/plain": [
       "<Figure size 432x288 with 1 Axes>"
      ]
     },
     "metadata": {
      "needs_background": "light"
     },
     "output_type": "display_data"
    }
   ],
   "source": [
    "df_Continent[\"Acreage (Hectare)\"].sort_values(ascending=False).plot(kind=\"bar\")"
   ]
  },
  {
   "cell_type": "markdown",
   "id": "1751d499",
   "metadata": {},
   "source": [
    "### Effects production of sugerccane"
   ]
  },
  {
   "cell_type": "code",
   "execution_count": 180,
   "id": "e0384f7f",
   "metadata": {},
   "outputs": [],
   "source": [
    "df_Continent[\"number_of_countries\"]=df.groupby(\"Continent\").count()[\"Country\"]"
   ]
  },
  {
   "cell_type": "code",
   "execution_count": 181,
   "id": "44efef3c",
   "metadata": {},
   "outputs": [
    {
     "data": {
      "text/html": [
       "<div>\n",
       "<style scoped>\n",
       "    .dataframe tbody tr th:only-of-type {\n",
       "        vertical-align: middle;\n",
       "    }\n",
       "\n",
       "    .dataframe tbody tr th {\n",
       "        vertical-align: top;\n",
       "    }\n",
       "\n",
       "    .dataframe thead th {\n",
       "        text-align: right;\n",
       "    }\n",
       "</style>\n",
       "<table border=\"1\" class=\"dataframe\">\n",
       "  <thead>\n",
       "    <tr style=\"text-align: right;\">\n",
       "      <th></th>\n",
       "      <th>Production (Tons)</th>\n",
       "      <th>Production per Person (Kg)</th>\n",
       "      <th>Acreage (Hectare)</th>\n",
       "      <th>Yield (Kg / Hectare)</th>\n",
       "      <th>number_of_countries</th>\n",
       "    </tr>\n",
       "    <tr>\n",
       "      <th>Continent</th>\n",
       "      <th></th>\n",
       "      <th></th>\n",
       "      <th></th>\n",
       "      <th></th>\n",
       "      <th></th>\n",
       "    </tr>\n",
       "  </thead>\n",
       "  <tbody>\n",
       "    <tr>\n",
       "      <th>Africa</th>\n",
       "      <td>89681472.0</td>\n",
       "      <td>2332636.293</td>\n",
       "      <td>1439089.0</td>\n",
       "      <td>2142107.5</td>\n",
       "      <td>38</td>\n",
       "    </tr>\n",
       "    <tr>\n",
       "      <th>Asia</th>\n",
       "      <td>721930425.0</td>\n",
       "      <td>1857769.303</td>\n",
       "      <td>10608319.0</td>\n",
       "      <td>1171871.4</td>\n",
       "      <td>25</td>\n",
       "    </tr>\n",
       "    <tr>\n",
       "      <th>Europe</th>\n",
       "      <td>5823.0</td>\n",
       "      <td>536.000</td>\n",
       "      <td>71.0</td>\n",
       "      <td>131870.9</td>\n",
       "      <td>2</td>\n",
       "    </tr>\n",
       "    <tr>\n",
       "      <th>North America</th>\n",
       "      <td>173995947.0</td>\n",
       "      <td>3796081.508</td>\n",
       "      <td>1581983.0</td>\n",
       "      <td>1082602.4</td>\n",
       "      <td>22</td>\n",
       "    </tr>\n",
       "    <tr>\n",
       "      <th>Oceania</th>\n",
       "      <td>36177574.0</td>\n",
       "      <td>28593.605</td>\n",
       "      <td>490909.0</td>\n",
       "      <td>162419.1</td>\n",
       "      <td>4</td>\n",
       "    </tr>\n",
       "    <tr>\n",
       "      <th>South America</th>\n",
       "      <td>865588126.0</td>\n",
       "      <td>3505531.738</td>\n",
       "      <td>11369236.0</td>\n",
       "      <td>677192.7</td>\n",
       "      <td>11</td>\n",
       "    </tr>\n",
       "  </tbody>\n",
       "</table>\n",
       "</div>"
      ],
      "text/plain": [
       "               Production (Tons)  Production per Person (Kg)  \\\n",
       "Continent                                                      \n",
       "Africa                89681472.0                 2332636.293   \n",
       "Asia                 721930425.0                 1857769.303   \n",
       "Europe                    5823.0                     536.000   \n",
       "North America        173995947.0                 3796081.508   \n",
       "Oceania               36177574.0                   28593.605   \n",
       "South America        865588126.0                 3505531.738   \n",
       "\n",
       "               Acreage (Hectare)  Yield (Kg / Hectare)  number_of_countries  \n",
       "Continent                                                                    \n",
       "Africa                 1439089.0             2142107.5                   38  \n",
       "Asia                  10608319.0             1171871.4                   25  \n",
       "Europe                      71.0              131870.9                    2  \n",
       "North America          1581983.0             1082602.4                   22  \n",
       "Oceania                 490909.0              162419.1                    4  \n",
       "South America         11369236.0              677192.7                   11  "
      ]
     },
     "execution_count": 181,
     "metadata": {},
     "output_type": "execute_result"
    }
   ],
   "source": [
    "df_Continent"
   ]
  },
  {
   "cell_type": "code",
   "execution_count": 187,
   "id": "ed602754",
   "metadata": {},
   "outputs": [],
   "source": [
    "# Continent_names = df_Continent.index.to_list()\n",
    "# sns.lineplot(data = df_Continent,x = \"number_of_countries\", y= \"Production(Tons)\")\n",
    "# plt.xticks(df_Continent[\"number_of_countries\"],Continent_names, rotation =90)\n",
    "# plt. show()"
   ]
  },
  {
   "cell_type": "markdown",
   "id": "ba196eb1",
   "metadata": {},
   "source": [
    "### Production distribution by continent"
   ]
  },
  {
   "cell_type": "code",
   "execution_count": 193,
   "id": "e8bf8822",
   "metadata": {},
   "outputs": [
    {
     "data": {
      "text/plain": [
       "<AxesSubplot:ylabel='Production (Tons)'>"
      ]
     },
     "execution_count": 193,
     "metadata": {},
     "output_type": "execute_result"
    },
    {
     "data": {
      "image/png": "[encoded data removed]",
      "text/plain": [
       "<Figure size 432x288 with 1 Axes>"
      ]
     },
     "metadata": {},
     "output_type": "display_data"
    }
   ],
   "source": [
    "df_Continent[\"Production (Tons)\"].plot(kind=\"pie\",autopct=\"%2f\")"
   ]
  },
  {
   "cell_type": "markdown",
   "id": "518c42ec",
   "metadata": {},
   "source": [
    "### Correlations for continent"
   ]
  },
  {
   "cell_type": "code",
   "execution_count": 194,
   "id": "8f7a94a3",
   "metadata": {},
   "outputs": [
    {
     "data": {
      "text/html": [
       "<div>\n",
       "<style scoped>\n",
       "    .dataframe tbody tr th:only-of-type {\n",
       "        vertical-align: middle;\n",
       "    }\n",
       "\n",
       "    .dataframe tbody tr th {\n",
       "        vertical-align: top;\n",
       "    }\n",
       "\n",
       "    .dataframe thead th {\n",
       "        text-align: right;\n",
       "    }\n",
       "</style>\n",
       "<table border=\"1\" class=\"dataframe\">\n",
       "  <thead>\n",
       "    <tr style=\"text-align: right;\">\n",
       "      <th></th>\n",
       "      <th>Production (Tons)</th>\n",
       "      <th>Production per Person (Kg)</th>\n",
       "      <th>Acreage (Hectare)</th>\n",
       "      <th>Yield (Kg / Hectare)</th>\n",
       "      <th>number_of_countries</th>\n",
       "    </tr>\n",
       "  </thead>\n",
       "  <tbody>\n",
       "    <tr>\n",
       "      <th>Production (Tons)</th>\n",
       "      <td>1.000000</td>\n",
       "      <td>0.522211</td>\n",
       "      <td>0.994897</td>\n",
       "      <td>0.091201</td>\n",
       "      <td>0.109244</td>\n",
       "    </tr>\n",
       "    <tr>\n",
       "      <th>Production per Person (Kg)</th>\n",
       "      <td>0.522211</td>\n",
       "      <td>1.000000</td>\n",
       "      <td>0.463215</td>\n",
       "      <td>0.542961</td>\n",
       "      <td>0.540086</td>\n",
       "    </tr>\n",
       "    <tr>\n",
       "      <th>Acreage (Hectare)</th>\n",
       "      <td>0.994897</td>\n",
       "      <td>0.463215</td>\n",
       "      <td>1.000000</td>\n",
       "      <td>0.111166</td>\n",
       "      <td>0.132817</td>\n",
       "    </tr>\n",
       "    <tr>\n",
       "      <th>Yield (Kg / Hectare)</th>\n",
       "      <td>0.091201</td>\n",
       "      <td>0.542961</td>\n",
       "      <td>0.111166</td>\n",
       "      <td>1.000000</td>\n",
       "      <td>0.989712</td>\n",
       "    </tr>\n",
       "    <tr>\n",
       "      <th>number_of_countries</th>\n",
       "      <td>0.109244</td>\n",
       "      <td>0.540086</td>\n",
       "      <td>0.132817</td>\n",
       "      <td>0.989712</td>\n",
       "      <td>1.000000</td>\n",
       "    </tr>\n",
       "  </tbody>\n",
       "</table>\n",
       "</div>"
      ],
      "text/plain": [
       "                            Production (Tons)  Production per Person (Kg)  \\\n",
       "Production (Tons)                    1.000000                    0.522211   \n",
       "Production per Person (Kg)           0.522211                    1.000000   \n",
       "Acreage (Hectare)                    0.994897                    0.463215   \n",
       "Yield (Kg / Hectare)                 0.091201                    0.542961   \n",
       "number_of_countries                  0.109244                    0.540086   \n",
       "\n",
       "                            Acreage (Hectare)  Yield (Kg / Hectare)  \\\n",
       "Production (Tons)                    0.994897              0.091201   \n",
       "Production per Person (Kg)           0.463215              0.542961   \n",
       "Acreage (Hectare)                    1.000000              0.111166   \n",
       "Yield (Kg / Hectare)                 0.111166              1.000000   \n",
       "number_of_countries                  0.132817              0.989712   \n",
       "\n",
       "                            number_of_countries  \n",
       "Production (Tons)                      0.109244  \n",
       "Production per Person (Kg)             0.540086  \n",
       "Acreage (Hectare)                      0.132817  \n",
       "Yield (Kg / Hectare)                   0.989712  \n",
       "number_of_countries                    1.000000  "
      ]
     },
     "execution_count": 194,
     "metadata": {},
     "output_type": "execute_result"
    }
   ],
   "source": [
    "df_Continent.corr()"
   ]
  },
  {
   "cell_type": "markdown",
   "id": "8c339c27",
   "metadata": {},
   "source": [
    "###"
   ]
  }
 ],
 "metadata": {
  "kernelspec": {
   "display_name": "Python 3 (ipykernel)",
   "language": "python",
   "name": "python3"
  },
  "language_info": {
   "codemirror_mode": {
    "name": "ipython",
    "version": 3
   },
   "file_extension": ".py",
   "mimetype": "text/x-python",
   "name": "python",
   "nbconvert_exporter": "python",
   "pygments_lexer": "ipython3",
   "version": "3.9.7"
  }
 },
 "nbformat": 4,
 "nbformat_minor": 5
}
